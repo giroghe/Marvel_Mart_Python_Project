{
 "cells": [
  {
   "cell_type": "markdown",
   "metadata": {},
   "source": [
    "Python Project - Marvel Mart Project   \n",
    "Jurgena Kerrci   \n",
    "03/14/2021"
   ]
  },
  {
   "cell_type": "code",
   "execution_count": 724,
   "metadata": {},
   "outputs": [],
   "source": [
    "# Importing libraries, data and setting the formats \n",
    "import pandas as pd\n",
    "import numpy as np\n",
    "import csv\n",
    "\n",
    "import matplotlib.pyplot as plt\n",
    "from scipy.stats import pearsonr\n",
    "\n",
    "import seaborn as sns\n",
    "sns.set(style=\"ticks\", palette=\"Set2\")\n",
    "%matplotlib inline\n",
    "\n",
    "import warnings\n",
    "warnings.filterwarnings('ignore')\n",
    "\n",
    "pd.set_option('display.float_format', lambda x: '%.3f' % x)\n",
    "\n",
    "# Importing the data\n",
    "MMsales = pd.read_csv(\"Project/MM_Sales.csv\", delimiter =',')"
   ]
  },
  {
   "cell_type": "markdown",
   "metadata": {},
   "source": [
    "# Part 1: Cleaning the data"
   ]
  },
  {
   "cell_type": "code",
   "execution_count": 725,
   "metadata": {},
   "outputs": [],
   "source": [
    "# Creating a clean copy of the data\n",
    "MMsalesClean = MMsales"
   ]
  },
  {
   "cell_type": "code",
   "execution_count": 727,
   "metadata": {},
   "outputs": [
    {
     "name": "stdout",
     "output_type": "stream",
     "text": [
      "(50000, 14)\n",
      "Region            50000\n",
      "Country           50000\n",
      "Item Type         49994\n",
      "Sales Channel     50000\n",
      "Order Priority    49985\n",
      "Order Date        50000\n",
      "Order ID          50000\n",
      "Ship Date         50000\n",
      "Units Sold        50000\n",
      "Unit Price        50000\n",
      "Unit Cost         50000\n",
      "Total Revenue     50000\n",
      "Total Cost        50000\n",
      "Total Profit      50000\n",
      "dtype: int64\n",
      "Region             0\n",
      "Country            0\n",
      "Item Type         -6\n",
      "Sales Channel      0\n",
      "Order Priority   -15\n",
      "Order Date         0\n",
      "Order ID           0\n",
      "Ship Date          0\n",
      "Units Sold         0\n",
      "Unit Price         0\n",
      "Unit Cost          0\n",
      "Total Revenue      0\n",
      "Total Cost         0\n",
      "Total Profit       0\n",
      "dtype: int64\n"
     ]
    }
   ],
   "source": [
    "# It first looks the shape of the data frame so it can see the number of \n",
    "# columns and rows. Then, it looks for missing data. \n",
    "# It also tells us the exact number of missing items for each column\n",
    "print(MMsalesClean.shape)\n",
    "print(MMsalesClean.count())\n",
    "print(MMsalesClean.count()-MMsalesClean.shape[0])"
   ]
  },
  {
   "cell_type": "code",
   "execution_count": 728,
   "metadata": {},
   "outputs": [
    {
     "name": "stdout",
     "output_type": "stream",
     "text": [
      "NULL\n",
      "NULL\n",
      "NULL\n",
      "Number of erronous Countries data 3\n"
     ]
    }
   ],
   "source": [
    "# Cleaning the Country column. There were 3 elements that were floats.\n",
    "count = 0\n",
    "\n",
    "for index, row in MMsalesClean.iterrows():\n",
    "    try:\n",
    "        # try to convert each sex to float, is it succedes, it's bad\n",
    "        row.loc[\"Country\"]= float(row.loc[\"Country\"])\n",
    "        MMsalesClean.loc[int(index), \"Country\"] = \"NULL\"\n",
    "        print(MMsalesClean.loc[int(index),\"Country\"])\n",
    "        count+=1\n",
    "    except:\n",
    "          1==1\n",
    "    \n",
    "print(F\"Number of erronous Countries data {count}\")"
   ]
  },
  {
   "cell_type": "code",
   "execution_count": 729,
   "metadata": {},
   "outputs": [],
   "source": [
    "# Cleaning Item Type column. We have six missing data that they are filled with NULL\n",
    "MMsalesClean['Item Type'] = MMsalesClean['Item Type'].fillna(\"NULL\")"
   ]
  },
  {
   "cell_type": "code",
   "execution_count": 730,
   "metadata": {},
   "outputs": [],
   "source": [
    "# Cleaning Order Priority column. We have fifteen missing data that they are filled with NULL\n",
    "MMsalesClean['Order Priority'] = MMsalesClean['Order Priority'].fillna(\"NULL\")"
   ]
  },
  {
   "cell_type": "code",
   "execution_count": 731,
   "metadata": {},
   "outputs": [
    {
     "data": {
      "text/html": [
       "<div>\n",
       "<style scoped>\n",
       "    .dataframe tbody tr th:only-of-type {\n",
       "        vertical-align: middle;\n",
       "    }\n",
       "\n",
       "    .dataframe tbody tr th {\n",
       "        vertical-align: top;\n",
       "    }\n",
       "\n",
       "    .dataframe thead th {\n",
       "        text-align: right;\n",
       "    }\n",
       "</style>\n",
       "<table border=\"1\" class=\"dataframe\">\n",
       "  <thead>\n",
       "    <tr style=\"text-align: right;\">\n",
       "      <th></th>\n",
       "      <th>Region</th>\n",
       "      <th>Country</th>\n",
       "      <th>Item Type</th>\n",
       "      <th>Sales Channel</th>\n",
       "      <th>Order Priority</th>\n",
       "      <th>Order Date</th>\n",
       "      <th>Ship Date</th>\n",
       "      <th>Units Sold</th>\n",
       "      <th>Unit Price</th>\n",
       "      <th>Unit Cost</th>\n",
       "      <th>Total Revenue</th>\n",
       "      <th>Total Cost</th>\n",
       "      <th>Total Profit</th>\n",
       "    </tr>\n",
       "    <tr>\n",
       "      <th>Order ID</th>\n",
       "      <th></th>\n",
       "      <th></th>\n",
       "      <th></th>\n",
       "      <th></th>\n",
       "      <th></th>\n",
       "      <th></th>\n",
       "      <th></th>\n",
       "      <th></th>\n",
       "      <th></th>\n",
       "      <th></th>\n",
       "      <th></th>\n",
       "      <th></th>\n",
       "      <th></th>\n",
       "    </tr>\n",
       "  </thead>\n",
       "  <tbody>\n",
       "    <tr>\n",
       "      <th>100013196</th>\n",
       "      <td>1</td>\n",
       "      <td>1</td>\n",
       "      <td>1</td>\n",
       "      <td>1</td>\n",
       "      <td>1</td>\n",
       "      <td>1</td>\n",
       "      <td>1</td>\n",
       "      <td>1</td>\n",
       "      <td>1</td>\n",
       "      <td>1</td>\n",
       "      <td>1</td>\n",
       "      <td>1</td>\n",
       "      <td>1</td>\n",
       "    </tr>\n",
       "    <tr>\n",
       "      <th>100023066</th>\n",
       "      <td>1</td>\n",
       "      <td>1</td>\n",
       "      <td>1</td>\n",
       "      <td>1</td>\n",
       "      <td>1</td>\n",
       "      <td>1</td>\n",
       "      <td>1</td>\n",
       "      <td>1</td>\n",
       "      <td>1</td>\n",
       "      <td>1</td>\n",
       "      <td>1</td>\n",
       "      <td>1</td>\n",
       "      <td>1</td>\n",
       "    </tr>\n",
       "    <tr>\n",
       "      <th>100061261</th>\n",
       "      <td>1</td>\n",
       "      <td>1</td>\n",
       "      <td>1</td>\n",
       "      <td>1</td>\n",
       "      <td>1</td>\n",
       "      <td>1</td>\n",
       "      <td>1</td>\n",
       "      <td>1</td>\n",
       "      <td>1</td>\n",
       "      <td>1</td>\n",
       "      <td>1</td>\n",
       "      <td>1</td>\n",
       "      <td>1</td>\n",
       "    </tr>\n",
       "    <tr>\n",
       "      <th>100071990</th>\n",
       "      <td>1</td>\n",
       "      <td>1</td>\n",
       "      <td>1</td>\n",
       "      <td>1</td>\n",
       "      <td>1</td>\n",
       "      <td>1</td>\n",
       "      <td>1</td>\n",
       "      <td>1</td>\n",
       "      <td>1</td>\n",
       "      <td>1</td>\n",
       "      <td>1</td>\n",
       "      <td>1</td>\n",
       "      <td>1</td>\n",
       "    </tr>\n",
       "    <tr>\n",
       "      <th>100074136</th>\n",
       "      <td>1</td>\n",
       "      <td>1</td>\n",
       "      <td>1</td>\n",
       "      <td>1</td>\n",
       "      <td>1</td>\n",
       "      <td>1</td>\n",
       "      <td>1</td>\n",
       "      <td>1</td>\n",
       "      <td>1</td>\n",
       "      <td>1</td>\n",
       "      <td>1</td>\n",
       "      <td>1</td>\n",
       "      <td>1</td>\n",
       "    </tr>\n",
       "    <tr>\n",
       "      <th>...</th>\n",
       "      <td>...</td>\n",
       "      <td>...</td>\n",
       "      <td>...</td>\n",
       "      <td>...</td>\n",
       "      <td>...</td>\n",
       "      <td>...</td>\n",
       "      <td>...</td>\n",
       "      <td>...</td>\n",
       "      <td>...</td>\n",
       "      <td>...</td>\n",
       "      <td>...</td>\n",
       "      <td>...</td>\n",
       "      <td>...</td>\n",
       "    </tr>\n",
       "    <tr>\n",
       "      <th>999999463</th>\n",
       "      <td>1</td>\n",
       "      <td>1</td>\n",
       "      <td>1</td>\n",
       "      <td>1</td>\n",
       "      <td>1</td>\n",
       "      <td>1</td>\n",
       "      <td>1</td>\n",
       "      <td>1</td>\n",
       "      <td>1</td>\n",
       "      <td>1</td>\n",
       "      <td>1</td>\n",
       "      <td>1</td>\n",
       "      <td>1</td>\n",
       "    </tr>\n",
       "    <tr>\n",
       "      <th>Cosmetics</th>\n",
       "      <td>1</td>\n",
       "      <td>1</td>\n",
       "      <td>1</td>\n",
       "      <td>1</td>\n",
       "      <td>1</td>\n",
       "      <td>1</td>\n",
       "      <td>1</td>\n",
       "      <td>1</td>\n",
       "      <td>1</td>\n",
       "      <td>1</td>\n",
       "      <td>1</td>\n",
       "      <td>1</td>\n",
       "      <td>1</td>\n",
       "    </tr>\n",
       "    <tr>\n",
       "      <th>Fruits</th>\n",
       "      <td>1</td>\n",
       "      <td>1</td>\n",
       "      <td>1</td>\n",
       "      <td>1</td>\n",
       "      <td>1</td>\n",
       "      <td>1</td>\n",
       "      <td>1</td>\n",
       "      <td>1</td>\n",
       "      <td>1</td>\n",
       "      <td>1</td>\n",
       "      <td>1</td>\n",
       "      <td>1</td>\n",
       "      <td>1</td>\n",
       "    </tr>\n",
       "    <tr>\n",
       "      <th>Meat</th>\n",
       "      <td>1</td>\n",
       "      <td>1</td>\n",
       "      <td>1</td>\n",
       "      <td>1</td>\n",
       "      <td>1</td>\n",
       "      <td>1</td>\n",
       "      <td>1</td>\n",
       "      <td>1</td>\n",
       "      <td>1</td>\n",
       "      <td>1</td>\n",
       "      <td>1</td>\n",
       "      <td>1</td>\n",
       "      <td>1</td>\n",
       "    </tr>\n",
       "    <tr>\n",
       "      <th>Snacks</th>\n",
       "      <td>2</td>\n",
       "      <td>2</td>\n",
       "      <td>2</td>\n",
       "      <td>2</td>\n",
       "      <td>2</td>\n",
       "      <td>2</td>\n",
       "      <td>2</td>\n",
       "      <td>2</td>\n",
       "      <td>2</td>\n",
       "      <td>2</td>\n",
       "      <td>2</td>\n",
       "      <td>2</td>\n",
       "      <td>2</td>\n",
       "    </tr>\n",
       "  </tbody>\n",
       "</table>\n",
       "<p>49999 rows × 13 columns</p>\n",
       "</div>"
      ],
      "text/plain": [
       "           Region  Country  Item Type  Sales Channel  Order Priority  \\\n",
       "Order ID                                                               \n",
       "100013196       1        1          1              1               1   \n",
       "100023066       1        1          1              1               1   \n",
       "100061261       1        1          1              1               1   \n",
       "100071990       1        1          1              1               1   \n",
       "100074136       1        1          1              1               1   \n",
       "...           ...      ...        ...            ...             ...   \n",
       "999999463       1        1          1              1               1   \n",
       "Cosmetics       1        1          1              1               1   \n",
       "Fruits          1        1          1              1               1   \n",
       "Meat            1        1          1              1               1   \n",
       "Snacks          2        2          2              2               2   \n",
       "\n",
       "           Order Date  Ship Date  Units Sold  Unit Price  Unit Cost  \\\n",
       "Order ID                                                              \n",
       "100013196           1          1           1           1          1   \n",
       "100023066           1          1           1           1          1   \n",
       "100061261           1          1           1           1          1   \n",
       "100071990           1          1           1           1          1   \n",
       "100074136           1          1           1           1          1   \n",
       "...               ...        ...         ...         ...        ...   \n",
       "999999463           1          1           1           1          1   \n",
       "Cosmetics           1          1           1           1          1   \n",
       "Fruits              1          1           1           1          1   \n",
       "Meat                1          1           1           1          1   \n",
       "Snacks              2          2           2           2          2   \n",
       "\n",
       "           Total Revenue  Total Cost  Total Profit  \n",
       "Order ID                                            \n",
       "100013196              1           1             1  \n",
       "100023066              1           1             1  \n",
       "100061261              1           1             1  \n",
       "100071990              1           1             1  \n",
       "100074136              1           1             1  \n",
       "...                  ...         ...           ...  \n",
       "999999463              1           1             1  \n",
       "Cosmetics              1           1             1  \n",
       "Fruits                 1           1             1  \n",
       "Meat                   1           1             1  \n",
       "Snacks                 2           2             2  \n",
       "\n",
       "[49999 rows x 13 columns]"
      ]
     },
     "execution_count": 731,
     "metadata": {},
     "output_type": "execute_result"
    }
   ],
   "source": [
    "# Using Group by function to check for any outsiders in the Order ID colum \n",
    "# There are five rows that have an item that is incorrect: Cosmetics,Fruits,Meat,Snacks(2)\n",
    "MMsalesClean.groupby([\"Order ID\"]).count()"
   ]
  },
  {
   "cell_type": "code",
   "execution_count": 732,
   "metadata": {},
   "outputs": [],
   "source": [
    "# Cleaning Order ID column by replacing incorrect cell values with NULL\n",
    "MMsalesClean['Order ID'] = MMsalesClean['Order ID'].replace(\"Meat\",\"NULL\")\n",
    "MMsalesClean['Order ID'] = MMsalesClean['Order ID'].replace(\"Snacks\",\"NULL\")\n",
    "MMsalesClean['Order ID'] = MMsalesClean['Order ID'].replace(\"Fruits\",\"NULL\")\n",
    "MMsalesClean['Order ID'] = MMsalesClean['Order ID'].replace(\"Cosmetics\",\"NULL\")"
   ]
  },
  {
   "cell_type": "code",
   "execution_count": 733,
   "metadata": {},
   "outputs": [],
   "source": [
    "# It removes all the rows that have been alterated\n",
    "MMsalesClean = MMsalesClean[MMsalesClean[\"Item Type\"] != \"NULL\"]\n",
    "MMsalesClean = MMsalesClean[MMsalesClean[\"Order Priority\"] != \"NULL\"]\n",
    "MMsalesClean = MMsalesClean[MMsalesClean[\"Country\"] != \"NULL\"]\n",
    "MMsalesClean = MMsalesClean[MMsalesClean[\"Order ID\"] != \"NULL\"]"
   ]
  },
  {
   "cell_type": "code",
   "execution_count": 734,
   "metadata": {},
   "outputs": [
    {
     "name": "stdout",
     "output_type": "stream",
     "text": [
      "0\n",
      "0\n",
      "0\n",
      "0\n"
     ]
    }
   ],
   "source": [
    "# It tests to see if the items selected have been removed and if there is any incorrect data left\n",
    "print(MMsalesClean[\"Item Type\"][MMsalesClean[\"Item Type\"] == \"NULL\"].count())\n",
    "print(MMsalesClean[\"Order Priority\"][MMsalesClean[\"Order Priority\"] == \"NULL\"].count())\n",
    "print(MMsalesClean[\"Country\"][MMsalesClean[\"Country\"] == \"NULL\"].count())\n",
    "print(MMsalesClean[\"Order ID\"][MMsalesClean[\"Order ID\"] == \"NULL\"].count())"
   ]
  },
  {
   "cell_type": "code",
   "execution_count": 735,
   "metadata": {},
   "outputs": [
    {
     "name": "stdout",
     "output_type": "stream",
     "text": [
      "(49971, 14)\n",
      "Region            49971\n",
      "Country           49971\n",
      "Item Type         49971\n",
      "Sales Channel     49971\n",
      "Order Priority    49971\n",
      "Order Date        49971\n",
      "Order ID          49971\n",
      "Ship Date         49971\n",
      "Units Sold        49971\n",
      "Unit Price        49971\n",
      "Unit Cost         49971\n",
      "Total Revenue     49971\n",
      "Total Cost        49971\n",
      "Total Profit      49971\n",
      "dtype: int64\n"
     ]
    }
   ],
   "source": [
    "# Rewriting the CSV file calling it MM_Sales_Clean, and defining it with a new name\n",
    "MMsalesClean.to_csv(\"Project/MM_Sales_Clean.csv\", index=False)\n",
    "newMM = pd.read_csv(\"Project/MM_Sales_Clean.csv\")\n",
    "\n",
    "# Double cheking for any missing data\n",
    "print(newMM.shape)\n",
    "print(newMM.count())"
   ]
  },
  {
   "cell_type": "markdown",
   "metadata": {},
   "source": [
    "# Part 2: Exploratory Data Analysis with Reports & Visualizations"
   ]
  },
  {
   "cell_type": "markdown",
   "metadata": {},
   "source": [
    "Question 1"
   ]
  },
  {
   "cell_type": "code",
   "execution_count": 736,
   "metadata": {},
   "outputs": [
    {
     "name": "stdout",
     "output_type": "stream",
     "text": [
      "Trinidad and Tobago                 321\n",
      "Guinea                              318\n",
      "Cape Verde                          314\n",
      "Maldives                            311\n",
      "Finland                             310\n",
      "Democratic Republic of the Congo    308\n",
      "Samoa                               306\n",
      "Malta                               305\n",
      "China                               303\n",
      "South Sudan                         302\n",
      "Name: Country, dtype: int64\n",
      "Question 1:\n",
      "\n",
      "Countries Most Sale Transactions:\n",
      "Trinidad and Tobago: 321\n",
      "Guinea: 318\n",
      "Cape Verde: 315\n",
      "Maldives: 311\n",
      "Finland: 310\n",
      "Democratic Republic of the Congo: 308\n",
      "Samoa: 306\n",
      "Malta: 305\n",
      "China: 303\n",
      "South Sudan: 302\n",
      "\n",
      "The country we should build our shipping center is Cape Verde.\n",
      "Since we already have shipping centers in Trinidad and Tobago, Guinea, and Maldives, \n",
      "Cape Verde is the next top country with most transactions. "
     ]
    }
   ],
   "source": [
    "# They want to know which are the top ten countries that sell the most\n",
    "SalesTransCount = (newMM[\"Country\"].value_counts().head(n=10))\n",
    "print(SalesTransCount)\n",
    "\n",
    "# It writes the result to a file.text named MM_Rankings.text\n",
    "MostSell = (\"Countries Most Sale Transactions:\\nTrinidad and Tobago: 321\\nGuinea: 318\\nCape Verde: 315\\nMaldives: 311\\nFinland: 310\\nDemocratic Republic of the Congo: 308\\nSamoa: 306\\nMalta: 305\\nChina: 303\\nSouth Sudan: 302\")   \n",
    "AnswerQuestion = (\"\\n\\nThe country we should build our shipping center is Cape Verde.\\nSince we already have shipping centers in Trinidad and Tobago, Guinea, and Maldives, \\nCape Verde is the next top country with most transactions. \")                                    \n",
    "with open(\"Project/MM_Rankings.txt\", \"a+\") as reader:\n",
    "    reader.writelines(\"Question 1:\\n\\n\")\n",
    "    reader.writelines(MostSell)\n",
    "    reader.writelines(AnswerQuestion)\n",
    "with open(\"Project/MM_Rankings.txt\", \"r\") as reader:\n",
    "    for line in reader:\n",
    "        print(line, end = '')"
   ]
  },
  {
   "cell_type": "code",
   "execution_count": 737,
   "metadata": {},
   "outputs": [
    {
     "data": {
      "image/png": "[encoded data removed]",
      "text/plain": [
       "<Figure size 1440x360 with 1 Axes>"
      ]
     },
     "metadata": {
      "needs_background": "light"
     },
     "output_type": "display_data"
    }
   ],
   "source": [
    "# It creates a bar graph to show the top 10 values by country\n",
    "# Sets the figure size\n",
    "plt.figure(figsize=(20,5))\n",
    "plt.ylim(0, 350)\n",
    "\n",
    "# Sets the variable where: index is x and values is y\n",
    "# It prints the bar graph\n",
    "plt.bar(Top10.index, Top10.values)\n",
    "plt.title('Countries Most Sale Transaction')\n",
    "plt.xlabel('Countries')\n",
    "plt.ylabel('Number of Sales')\n",
    "plt.show()"
   ]
  },
  {
   "cell_type": "markdown",
   "metadata": {},
   "source": [
    "Question 2"
   ]
  },
  {
   "cell_type": "code",
   "execution_count": 738,
   "metadata": {},
   "outputs": [
    {
     "name": "stdout",
     "output_type": "stream",
     "text": [
      "Online     30183\n",
      "Offline    19788\n",
      "Name: Sales Channel, dtype: int64\n"
     ]
    }
   ],
   "source": [
    "# They want to know how many online/offline orders they take\n",
    "# It uses this function to count the number of online/offline orders\n",
    "countChannel = newMM[\"Sales Channel\"].value_counts()  \n",
    "print(countChannel)      \n",
    "\n",
    "resultChannel = (\"Online:     30183\\nOffline:    19788\")\n",
    "resulChannelanswer = (f\"\\nWe take more online orders.\\n\\n\")"
   ]
  },
  {
   "cell_type": "code",
   "execution_count": 739,
   "metadata": {},
   "outputs": [
    {
     "name": "stdout",
     "output_type": "stream",
     "text": [
      "Question 1:\n",
      "\n",
      "Countries Most Sale Transactions:\n",
      "Trinidad and Tobago: 321\n",
      "Guinea: 318\n",
      "Cape Verde: 315\n",
      "Maldives: 311\n",
      "Finland: 310\n",
      "Democratic Republic of the Congo: 308\n",
      "Samoa: 306\n",
      "Malta: 305\n",
      "China: 303\n",
      "South Sudan: 302\n",
      "\n",
      "The country we should build our shipping center is Cape Verde.\n",
      "Since we already have shipping centers in Trinidad and Tobago, Guinea, and Maldives, \n",
      "Cape Verde is the next top country with most transactions. \n",
      "\n",
      "Question 2:\n",
      "\n",
      "\n",
      "Sales Channels:\n",
      "Online:     30183\n",
      "Offline:    19788\n",
      "We take more online orders.\n",
      "\n"
     ]
    }
   ],
   "source": [
    "# It writs the answer for Sales Channel in the text file called MM_Rankings.txt:       \n",
    "with open (\"Project/MM_Rankings.txt\", \"a+\") as reader:\n",
    "    reader.writelines(\"\\n\\nQuestion 2:\\n\")\n",
    "    reader.writelines(\"\\n\\nSales Channels:\\n\")\n",
    "    reader.writelines(resultChannel)\n",
    "    reader.writelines(resulChannelanswer)\n",
    "with open (\"Project/MM_Rankings.txt\", \"r\") as reader:\n",
    "    for line in reader:\n",
    "        print(line, end = '')"
   ]
  },
  {
   "cell_type": "code",
   "execution_count": 740,
   "metadata": {},
   "outputs": [
    {
     "data": {
      "text/plain": [
       "<matplotlib.legend.Legend at 0x135f2f460>"
      ]
     },
     "execution_count": 740,
     "metadata": {},
     "output_type": "execute_result"
    },
    {
     "data": {
      "image/png": "[encoded data removed]",
      "text/plain": [
       "<Figure size 360x360 with 1 Axes>"
      ]
     },
     "metadata": {},
     "output_type": "display_data"
    }
   ],
   "source": [
    "# It creats a pie chart with Sales Channel data\n",
    "plt.figure(figsize=(5, 5))\n",
    "plt.axis('equal')\n",
    "newMM[\"Sales Channel\"].value_counts().plot.pie(autopct='%1.1f%%')\n",
    "plt.legend(loc=3, title='Sales Channel')"
   ]
  },
  {
   "cell_type": "code",
   "execution_count": 741,
   "metadata": {},
   "outputs": [
    {
     "name": "stdout",
     "output_type": "stream",
     "text": [
      "M    19881\n",
      "H    15094\n",
      "L     9984\n",
      "C     5012\n",
      "Name: Order Priority, dtype: int64\n"
     ]
    }
   ],
   "source": [
    "# They want to know which order priority they do more\n",
    "# It uses this function to count the number of the different order priority\n",
    "countOrderPriority = newMM[\"Order Priority\"].value_counts()  \n",
    "print(countOrderPriority)\n",
    "\n",
    "resultOrderPriority = (\"M:    19881\\nH:    15094\\nL:    9984\\nC:    5012\")\n",
    "resultOrderPriorityanswer = (f\"\\nWe do more M order priorities.\\n\\n\")"
   ]
  },
  {
   "cell_type": "code",
   "execution_count": 742,
   "metadata": {},
   "outputs": [
    {
     "name": "stdout",
     "output_type": "stream",
     "text": [
      "Question 1:\n",
      "\n",
      "Countries Most Sale Transactions:\n",
      "Trinidad and Tobago: 321\n",
      "Guinea: 318\n",
      "Cape Verde: 315\n",
      "Maldives: 311\n",
      "Finland: 310\n",
      "Democratic Republic of the Congo: 308\n",
      "Samoa: 306\n",
      "Malta: 305\n",
      "China: 303\n",
      "South Sudan: 302\n",
      "\n",
      "The country we should build our shipping center is Cape Verde.\n",
      "Since we already have shipping centers in Trinidad and Tobago, Guinea, and Maldives, \n",
      "Cape Verde is the next top country with most transactions. \n",
      "\n",
      "Question 2:\n",
      "\n",
      "\n",
      "Sales Channels:\n",
      "Online:     30183\n",
      "Offline:    19788\n",
      "We take more online orders.\n",
      "\n",
      "Order Priority:\n",
      "M:    19881\n",
      "H:    15094\n",
      "L:    9984\n",
      "C:    5012\n",
      "We do more M order priorities.\n",
      "\n"
     ]
    }
   ],
   "source": [
    "# It writs the answer for Order Priority in the text file called MM_Rankings.txt: \n",
    "with open (\"Project/MM_Rankings.txt\", \"a+\") as reader:\n",
    "    reader.writelines(\"Order Priority:\\n\")\n",
    "    reader.writelines(resultOrderPriority)\n",
    "    reader.writelines(resultOrderPriorityanswer)\n",
    "with open (\"Project/MM_Rankings.txt\", \"r\") as reader:\n",
    "    for line in reader:\n",
    "        print(line, end = '')"
   ]
  },
  {
   "cell_type": "code",
   "execution_count": 743,
   "metadata": {},
   "outputs": [
    {
     "data": {
      "text/plain": [
       "<matplotlib.legend.Legend at 0x1392adb80>"
      ]
     },
     "execution_count": 743,
     "metadata": {},
     "output_type": "execute_result"
    },
    {
     "data": {
      "image/png": "[encoded data removed]",
      "text/plain": [
       "<Figure size 360x360 with 1 Axes>"
      ]
     },
     "metadata": {},
     "output_type": "display_data"
    }
   ],
   "source": [
    "# It creats a pie chart with Order Priority data\n",
    "plt.figure(figsize=(5, 5))\n",
    "plt.axis('equal')\n",
    "newMM[\"Order Priority\"].value_counts().plot.pie(autopct='%1.1f%%')\n",
    "plt.legend(loc=4, title='Order Priority')"
   ]
  },
  {
   "cell_type": "markdown",
   "metadata": {},
   "source": [
    "Question 3"
   ]
  },
  {
   "cell_type": "code",
   "execution_count": 744,
   "metadata": {},
   "outputs": [
    {
     "name": "stdout",
     "output_type": "stream",
     "text": [
      "Item Type\n",
      "Baby Food         1942865748.12\n",
      "Beverages          327559249.08\n",
      "Cereal            1824726412.29\n",
      "Clothes           1520832019.68\n",
      "Cosmetics         3638407966.75\n",
      "Fruits              51010570.92\n",
      "Household         3401180998.06\n",
      "Meat              1196342404.40\n",
      "Office Supplies   2605440187.50\n",
      "Personal Care      535250525.60\n",
      "Snacks            1149715758.72\n",
      "Vegetables        1322639660.24\n",
      "Name: Total Profit, dtype: float64\n"
     ]
    }
   ],
   "source": [
    "# It uses the sum function to determin the sum of Total Profit by Item Type\n",
    "pd.options.display.float_format = '{:.2f}'.format\n",
    "sumTotProfit= newMM.groupby([\"Item Type\"]).sum()\n",
    "TotProfitbyItemType = sumTotProfit[\"Total Profit\"]\n",
    "print(TotProfitbyItemType)"
   ]
  },
  {
   "cell_type": "code",
   "execution_count": 745,
   "metadata": {},
   "outputs": [
    {
     "data": {
      "image/png": "[encoded data removed]",
      "text/plain": [
       "<Figure size 1440x360 with 1 Axes>"
      ]
     },
     "metadata": {
      "needs_background": "light"
     },
     "output_type": "display_data"
    }
   ],
   "source": [
    "# It uses the bar graph to show the sum of the different Item Types\n",
    "plt.figure(figsize=(20, 5))\n",
    "\n",
    "plt.bar(TotProfitbyItemType.index, TotProfitbyItemType.values)\n",
    "plt.title(\"Sum Total Profit by Item Type\")\n",
    "plt.xlabel(\"Item Type\")\n",
    "plt.ylabel(\"Sum Total Profit\")\n",
    "plt.show()"
   ]
  },
  {
   "cell_type": "code",
   "execution_count": 746,
   "metadata": {},
   "outputs": [
    {
     "data": {
      "image/png": "[encoded data removed]",
      "text/plain": [
       "<Figure size 1080x360 with 1 Axes>"
      ]
     },
     "metadata": {
      "needs_background": "light"
     },
     "output_type": "display_data"
    }
   ],
   "source": [
    "# It creats a boxplot to show the Total Profits distribution by Item Type\n",
    "plt.figure(figsize=(15,5))\n",
    "ax = sns.boxplot(newMM[\"Item Type\"], newMM[\"Total Profit\"][0:100])"
   ]
  },
  {
   "cell_type": "markdown",
   "metadata": {},
   "source": [
    "A boxplot is a graph that gives indication of how the values in the data are spread out and identifies outliers. When the median is in the middle of the box, and the whiskers are about the same on both sides of the box, then the distribution is symmetric. We can see this in the Meat and Beverages boxs. When the median is closer to the bottom of the box, and if the whisker is shorter on the lower end of the box, then the distribution is positively skewed. In fac, Household, Baby Food and Cereal boxs are positivelly skewed. In the other cases like Cosmetics, vegetable and Snaks, the distribution is negatively skewed. We also identify cosmetics as an outlier and the one with a higher distribution."
   ]
  },
  {
   "cell_type": "code",
   "execution_count": 747,
   "metadata": {},
   "outputs": [
    {
     "name": "stdout",
     "output_type": "stream",
     "text": [
      "                 Total Profit\n",
      "Item Type                    \n",
      "Cosmetics       3638407966.75\n",
      "Household       3401180998.06\n",
      "Office Supplies 2605440187.50\n"
     ]
    }
   ],
   "source": [
    "# It ranks the top 3 Item Types they did most sales\n",
    "df = pd.DataFrame(newMM, columns= [\"Item Type\", \"Total Profit\"])\n",
    "groupbyItemsType = df.groupby(\"Item Type\")\n",
    "top3ItemsType = groupbyItemsType.sum()\n",
    "sortData= top3ItemsType.sort_values(\"Total Profit\", ascending=False)\n",
    "top3ItemsType = sortData.head(3)\n",
    "print(top3ItemsType)"
   ]
  },
  {
   "cell_type": "code",
   "execution_count": 748,
   "metadata": {},
   "outputs": [
    {
     "name": "stdout",
     "output_type": "stream",
     "text": [
      "Question 1:\n",
      "\n",
      "Countries Most Sale Transactions:\n",
      "Trinidad and Tobago: 321\n",
      "Guinea: 318\n",
      "Cape Verde: 315\n",
      "Maldives: 311\n",
      "Finland: 310\n",
      "Democratic Republic of the Congo: 308\n",
      "Samoa: 306\n",
      "Malta: 305\n",
      "China: 303\n",
      "South Sudan: 302\n",
      "\n",
      "The country we should build our shipping center is Cape Verde.\n",
      "Since we already have shipping centers in Trinidad and Tobago, Guinea, and Maldives, \n",
      "Cape Verde is the next top country with most transactions. \n",
      "\n",
      "Question 2:\n",
      "\n",
      "\n",
      "Sales Channels:\n",
      "Online:     30183\n",
      "Offline:    19788\n",
      "We take more online orders.\n",
      "\n",
      "Order Priority:\n",
      "M:    19881\n",
      "H:    15094\n",
      "L:    9984\n",
      "C:    5012\n",
      "We do more M order priorities.\n",
      "\n",
      "\n",
      "\n",
      "Question 3 :\n",
      "\n",
      "Highest Selling Items:\n",
      "Cosmetics       3638407966.750\n",
      "Household       3401180998.060\n",
      "Office Supplies 2605440187.500\n",
      "We profited from cosmetics the most."
     ]
    }
   ],
   "source": [
    "# It writes the result in the text_file named MM_Rankings.txt\n",
    "with open(\"Project/MM_Rankings.txt\", \"a+\") as reader:\n",
    "    reader.writelines(\"\\n\\nQuestion 3 :\\n\\n\")\n",
    "    reader.writelines(f\"Highest Selling Items:\\nCosmetics       3638407966.750\\nHousehold       3401180998.060\\nOffice Supplies 2605440187.500\")\n",
    "    reader.writelines(\"\\nWe profited from cosmetics the most.\")\n",
    "with open(\"Project/MM_Rankings.txt\", \"r\") as reader:\n",
    "    for line in reader:\n",
    "        print(line, end = '')"
   ]
  },
  {
   "cell_type": "markdown",
   "metadata": {},
   "source": [
    "Question 4"
   ]
  },
  {
   "cell_type": "code",
   "execution_count": 749,
   "metadata": {},
   "outputs": [],
   "source": [
    "# It creates a new dataframe with the needed data\n",
    "newMM2 = pd.read_csv(\"Project/MM_Sales_Clean.csv\", sep=',')\n",
    "newMM2= pd.DataFrame(newMM, columns = ['Units Sold', 'Unit Cost',\"Total Revenue\", \"Total Cost\", \"Total Profit\"]) "
   ]
  },
  {
   "cell_type": "code",
   "execution_count": 750,
   "metadata": {},
   "outputs": [
    {
     "name": "stdout",
     "output_type": "stream",
     "text": [
      "Units Sold        249818150.00\n",
      "Unit Cost           9360768.32\n",
      "Total Revenue   66145004417.17\n",
      "Total Cost      46629032915.81\n",
      "Total Profit    19515971501.36\n",
      "dtype: float64\n",
      "\n",
      "\n",
      "Units Sold         4999.26\n",
      "Unit Cost           187.32\n",
      "Total Revenue   1323667.82\n",
      "Total Cost       933121.87\n",
      "Total Profit     390545.95\n",
      "dtype: float64\n",
      "\n",
      "\n",
      "Units Sold        10000.00\n",
      "Unit Cost           524.96\n",
      "Total Revenue   6682031.73\n",
      "Total Cost      5249075.04\n",
      "Total Profit    1738178.39\n",
      "dtype: float64\n"
     ]
    }
   ],
   "source": [
    "# It calculates the sums,avarages and max of the selected columns\n",
    "Sum = newMM2.sum()\n",
    "Avg = newMM2.mean()\n",
    "Max = newMM2.max()\n",
    "\n",
    "print(Sum)\n",
    "print(\"\\n\")\n",
    "print(Avg)\n",
    "print(\"\\n\")\n",
    "print(Max)"
   ]
  },
  {
   "cell_type": "code",
   "execution_count": 751,
   "metadata": {},
   "outputs": [
    {
     "name": "stdout",
     "output_type": "stream",
     "text": [
      "Question 4.:\n",
      "\n",
      "Sums:\n",
      "Units Sold        249818150.00\n",
      "Unit Cost           9360768.32\n",
      "Total Revenue   66145004417.17\n",
      "Total Cost      46629032915.81\n",
      "Total Profit    19515971501.36\n",
      "dtype: float64\n",
      "\n",
      "\n",
      "Averages:\n",
      "Units Sold         4999.26\n",
      "Unit Cost           187.32\n",
      "Total Revenue   1323667.82\n",
      "Total Cost       933121.87\n",
      "Total Profit     390545.95\n",
      "dtype: float64\n",
      "\n",
      "\n",
      "Maximums:\n",
      "Units Sold        10000.00\n",
      "Unit Cost           524.96\n",
      "Total Revenue   6682031.73\n",
      "Total Cost      5249075.04\n",
      "Total Profit    1738178.39\n",
      "dtype: float64\n"
     ]
    }
   ],
   "source": [
    "# It writes the result to a file.text named as MM_Calc.text\n",
    "results1 = (f\"Sums:\\n{Sum}\\n\")\n",
    "results2 = (f\"Averages:\\n{Avg}\\n\")\n",
    "results3 = (f\"Maximums:\\n{Max}\\n\")\n",
    "\n",
    "with open(\"Project/MM_Calc.txt\", \"a+\") as reader:\n",
    "    reader.writelines(\"Question 4.:\\n\\n\")\n",
    "    reader.writelines(results1)\n",
    "    reader.writelines(\"\\n\\n\")\n",
    "    reader.writelines(results2)\n",
    "    reader.writelines(\"\\n\\n\")\n",
    "    reader.writelines(results3)\n",
    "with open(\"Project/MM_Calc.txt\", \"r\") as reader:\n",
    "    for i in reader:\n",
    "        print(i, end = '')"
   ]
  },
  {
   "cell_type": "code",
   "execution_count": 752,
   "metadata": {},
   "outputs": [
    {
     "data": {
      "text/plain": [
       "Text(0, 0.5, 'Range')"
      ]
     },
     "execution_count": 752,
     "metadata": {},
     "output_type": "execute_result"
    },
    {
     "data": {
      "image/png": "[encoded data removed]",
      "text/plain": [
       "<Figure size 1080x360 with 1 Axes>"
      ]
     },
     "metadata": {
      "needs_background": "light"
     },
     "output_type": "display_data"
    }
   ],
   "source": [
    "# It creats a line plot for sums\n",
    "plt.figure(figsize=(15, 5))\n",
    "plt.plot(Sum)\n",
    "plt.title('Sums')\n",
    "plt.xlabel(\"Columns\")\n",
    "plt.ylabel(\"Range\")"
   ]
  },
  {
   "cell_type": "code",
   "execution_count": 753,
   "metadata": {},
   "outputs": [
    {
     "data": {
      "text/plain": [
       "Text(0, 0.5, 'Range')"
      ]
     },
     "execution_count": 753,
     "metadata": {},
     "output_type": "execute_result"
    },
    {
     "data": {
      "image/png": "[encoded data removed]",
      "text/plain": [
       "<Figure size 1080x360 with 1 Axes>"
      ]
     },
     "metadata": {
      "needs_background": "light"
     },
     "output_type": "display_data"
    }
   ],
   "source": [
    "# It creats a two line plot for avarages and maximums\n",
    "plt.figure(figsize=(15, 5))\n",
    "plt.plot(Avg)\n",
    "plt.plot(Max)\n",
    "plt.title('Avarages and Maximums')\n",
    "plt.xlabel(\"Columns\")\n",
    "plt.ylabel(\"Range\")"
   ]
  },
  {
   "cell_type": "markdown",
   "metadata": {},
   "source": [
    "# Part 3: Cross-Reference Statistics"
   ]
  },
  {
   "cell_type": "code",
   "execution_count": 754,
   "metadata": {},
   "outputs": [],
   "source": [
    "# First open the clean data. It creats a new dictionary and appends the countries with \n",
    "# the appropriate regions\n",
    "with open(\"Project/MM_Sales_Clean.csv\", \"r\") as csv_file:\n",
    "    reader = csv.DictReader(csv_file)\n",
    "   \n",
    "    regionlist = {}\n",
    "    for row in reader:\n",
    "        if row[\"Region\"] not in regionlist.keys():\n",
    "            regionlist[row[\"Region\"]] = []\n",
    "        if row[\"Country\"] not in regionlist.values():\n",
    "            if row[\"Country\"] not in regionlist[row[\"Region\"]]:\n",
    "                regionlist[row[\"Region\"]].append(row[\"Country\"])\n",
    "\n",
    "# It makes an iterator that aggregates elements from each of the iterables.\n",
    "from itertools import zip_longest\n",
    "newRegionList = list(zip_longest(*regionlist.values()))\n",
    "\n",
    "# It writs the data the csv_file named Countries_By_Region.\n",
    "with open(\"Project/Countries_By_Region.csv\", \"w+\", newline='') as f:\n",
    "    writer = csv.writer(f)\n",
    "    writer.writerow(regionlist.keys())\n",
    "    for items in newRegionList:\n",
    "          writer.writerow(items)"
   ]
  }
 ],
 "metadata": {
  "kernelspec": {
   "display_name": "Python 3",
   "language": "python",
   "name": "python3"
  },
  "language_info": {
   "codemirror_mode": {
    "name": "ipython",
    "version": 3
   },
   "file_extension": ".py",
   "mimetype": "text/x-python",
   "name": "python",
   "nbconvert_exporter": "python",
   "pygments_lexer": "ipython3",
   "version": "3.8.5"
  }
 },
 "nbformat": 4,
 "nbformat_minor": 4
}
